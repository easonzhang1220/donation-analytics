{
 "cells": [
  {
   "cell_type": "code",
   "execution_count": 1,
   "metadata": {
    "ExecuteTime": {
     "end_time": "2018-02-12T20:23:38.877257Z",
     "start_time": "2018-02-12T20:23:36.370283Z"
    },
    "collapsed": true
   },
   "outputs": [],
   "source": [
    "# coding: utf-8\n",
    "import numpy as np\n",
    "import pandas as pd\n",
    "import datetime"
   ]
  },
  {
   "cell_type": "code",
   "execution_count": 2,
   "metadata": {
    "ExecuteTime": {
     "end_time": "2018-02-12T20:23:38.908342Z",
     "start_time": "2018-02-12T20:23:38.877257Z"
    },
    "code_folding": [],
    "collapsed": true
   },
   "outputs": [],
   "source": [
    "# For this data challenge there should a Database for store valid doners,it could be \n",
    "# any kinds of Database products, like Oracle, DB2, MySQL,SQLite... OR for convience, \n",
    "# we could using Pandas DataFrame instand.\n",
    "\n",
    "# histor_Data used for storing Valided donors and also for varifying weather the new record is repeat donor.\n",
    "\n",
    "history_Data = pd.DataFrame([],columns =['CMTE_ID','NAME','ZIP_CODE','TRANSACTION_DT', 'TRANSACTION_AMT','OTHER_ID'])\n",
    "\n",
    "\n",
    "\n",
    "# To similating streaming processing,the input txt file would be read line by line. and this program as coding \n",
    "# mainly by Python /Pandas,and it using Pandas Series structure to store each line data, and we download the HEAD FILE from \n",
    "# FEC website(https://classic.fec.gov/finance/disclosure/metadata/DataDictionaryContributionsbyIndividuals.shtml)\n",
    "\n",
    "head_columns = ['CMTE_ID', 'AMNDT_IND', 'RPT_TP', 'TRANSACTION_PGI', 'IMAGE_NUM','TRANSACTION_TP', \n",
    "                'ENTITY_TP','NAME', 'CITY', 'STATE', 'ZIP_CODE','EMPLOYER', 'OCCUPATION', 'TRANSACTION_DT', \n",
    "                'TRANSACTION_AMT','OTHER_ID', 'TRAN_ID', 'FILE_NUM', 'MEMO_CD','MEMO_TEXT', 'SUB_ID']\n",
    "\n",
    "#the the columns array can be instand by following:\n",
    "#head_columns = pd.read_csv('../input/indiv_header_file.csv').columns.values"
   ]
  },
  {
   "cell_type": "code",
   "execution_count": 3,
   "metadata": {
    "ExecuteTime": {
     "end_time": "2018-02-12T20:23:39.131503Z",
     "start_time": "2018-02-12T20:23:38.911343Z"
    },
    "code_folding": [],
    "collapsed": true
   },
   "outputs": [],
   "source": [
    "# Because we are only interested in individual contributions, we only want records that have the field, \n",
    "# OTHER_ID, set to empty. If the OTHER_ID field contains any other value, you should completely ignore \n",
    "# and skip the entire record.\n",
    "\n",
    "# Other situations you can completely ignore and skip an entire record:\n",
    "\n",
    "#     If TRANSACTION_DT is an invalid date (e.g., empty, malformed)\n",
    "#     If ZIP_CODE is an invalid zip code (i.e., empty, fewer than five digits)\n",
    "#     If the NAME is an invalid name (e.g., empty, malformed)\n",
    "#     If any lines in the input file contains empty cells in the CMTE_ID or TRANSACTION_AMT fields\n",
    "\n",
    "def line_pre_check(line):\n",
    "        try:\n",
    "            datetime.datetime.strptime(line.TRANSACTION_DT, '%m%d%Y')\n",
    "        except:\n",
    "            return False \n",
    "       \n",
    "        if (line.CMTE_ID == '' \n",
    "        or line.TRANSACTION_AMT == '' \n",
    "        or line.OTHER_ID != '' \n",
    "        or len(line.ZIP_CODE) < 5 \n",
    "        or line.NAME == \"\"):\n",
    "            return False\n",
    "    \n",
    "        return True\n",
    "\n",
    "\n",
    "# For the purposes of this challenge, if a donor had previously contributed to any recipient listed in \n",
    "# the itcont.txt file in any prior calendar year, that donor is considered a repeat donor. Also, for the \n",
    "# purposes of this challenge, you can assume two contributions are from the same donor if the names and \n",
    "# zip codes are identical.\n",
    "\n",
    "def repeat_donor(line):\n",
    "    # Search the prevoir year records for the same donor(treat the Donor the same one for the same NAME and ZIP_CORD )\n",
    "    name_mask = history_Data['NAME'] == line.NAME\n",
    "    zipcode_mask = history_Data['ZIP_CODE'] == line.ZIP_CODE[:5]\n",
    "    year_mask = history_Data['TRANSACTION_DT'] < line.TRANSACTION_DT[-4:]\n",
    "    mask_results = history_Data[name_mask & zipcode_mask & year_mask]\n",
    "    \n",
    "    # if the the search results have record, it's repeat dornor. return True\n",
    "    if mask_results.shape[0] > 0:\n",
    "        return True\n",
    "    else:\n",
    "        return False\n",
    "\n",
    "\n",
    "# while there are many fields in the file that may be interesting, below are the ones that you’ll need to \n",
    "# complete this challenge:\n",
    "\n",
    "    # CMTE_ID: identifies the flier, which for our purposes is the recipient of this contribution\n",
    "    # NAME: name of the donor\n",
    "    # ZIP_CODE: zip code of the contributor (we only want the first five digits/characters)\n",
    "    # TRANSACTION_DT: date of the transaction\n",
    "    # TRANSACTION_AMT: amount of the transaction\n",
    "    # OTHER_ID: a field that denotes whether contribution came from a person or an entity\n",
    "    \n",
    "# Only choose above columns when append record to history_Data\n",
    "\n",
    "def add_to_history(line):\n",
    "    history_Data.loc[len(history_Data)] ={'CMTE_ID':line.CMTE_ID,\n",
    "                                          'NAME':line.NAME,\n",
    "                                          'ZIP_CODE':line.ZIP_CODE[:5],\n",
    "                                          'TRANSACTION_DT':line.TRANSACTION_DT[-4:],\n",
    "                                          'TRANSACTION_AMT':line.TRANSACTION_AMT,\n",
    "                                          'OTHER_ID':line.OTHER_ID}\n",
    "\n",
    "\n",
    "# For this challenge, we are asking you to take a file listing individual campaign contributions for multiple years, \n",
    "# determine which ones came from repeat donors, calculate a few values and distill the results into a single output file, \n",
    "# repeat_donors.txt.\n",
    "# For each recipient, zip code and calendar year, calculate these three values for contributions coming from repeat donors\n",
    "\n",
    "# total dollars received\n",
    "# total number of contributions received\n",
    "# donation amount in a given percentile\n",
    "\n",
    "# percentile.txt, holds a single value -- the percentile value (1-100) that your program will be asked to calculate.\n",
    "\n",
    "\n",
    "def contribution_from_repeat_donors(line):\n",
    "    #first 3 output values\n",
    "    recipient_mask = history_Data['CMTE_ID'] == line.CMTE_ID\n",
    "    zipcode_mask = history_Data['ZIP_CODE'] == line.ZIP_CODE[:5]\n",
    "    year_mask = history_Data['TRANSACTION_DT'] == line.TRANSACTION_DT[-4:]\n",
    "\n",
    "    # get the a list of 'TRANSACTION_AMT' after apply the above filters\n",
    "    repeat_donors = history_Data[recipient_mask & zipcode_mask & year_mask]['TRANSACTION_AMT']\n",
    "    repeat_donors_contributions = list(map(int, list(repeat_donors)))\n",
    "  \n",
    "    #caculating percentile data:\n",
    "    percentile = pd.read_csv('./input/percentile.txt',header = None).values[0][0]\n",
    "    percentile_index = int(percentile * len(repeat_donors_contributions) / 100)\n",
    "    percentile_amount =  repeat_donors_contributions[percentile_index]\n",
    "    \n",
    "    #combine the output line:\n",
    "    output = line.CMTE_ID + '|' + line.ZIP_CODE + '|' + line.TRANSACTION_DT[-4:] + '|' + str(percentile_amount) + '|' + str(sum(repeat_donors_contributions)) + '|' + str(len(repeat_donors_contributions))\n",
    "    print(\"write \\'%s\\' to output file.\" %output)\n",
    "    \n",
    "    # Write output line to output file \n",
    "    File = open('./output/repeat_donors.txt','a')\n",
    "    File.write(output + \"\\n\")  \n",
    "    File.close()"
   ]
  },
  {
   "cell_type": "code",
   "execution_count": 4,
   "metadata": {
    "ExecuteTime": {
     "end_time": "2018-02-12T20:23:39.503785Z",
     "start_time": "2018-02-12T20:23:39.137504Z"
    }
   },
   "outputs": [
    {
     "name": "stdout",
     "output_type": "stream",
     "text": [
      "This line is not valid input, ignored, read next line.\n",
      "Not a Repeat Donor, add to history_Data database.\n",
      "Not a Repeat Donor, add to history_Data database.\n",
      "Not a Repeat Donor, add to history_Data database.\n",
      "Not a Repeat Donor, add to history_Data database.\n",
      "Find a Repeat Donor\n",
      "write 'C00384516|028956146|2018|333|333|1' to output file.\n",
      "Find a Repeat Donor\n",
      "write 'C00384516|028956146|2018|333|717|2' to output file.\n"
     ]
    }
   ],
   "source": [
    "def main():\n",
    "    file = open('./input/itcont.txt')\n",
    "\n",
    "    for line in file:\n",
    "            line = pd.Series(line.split('|'),index = head_columns)     \n",
    "\n",
    "    # the first step is to check the format of each line, Valid Donor if Return TRUE, Ignored if return False\n",
    "            if line_pre_check(line) is not True:\n",
    "                print(\"This line is not valid input, ignored, read next line.\")\n",
    "                continue\n",
    "\n",
    "    # For repeat donor(She/He is have records for preview calander year),we need do:\n",
    "    #     * put the record to history_Data\n",
    "    #     * caculating the statistic and write to output file\n",
    "    # For other valid donor, only put the record to history_Data\n",
    "\n",
    "            if repeat_donor(line) is True:\n",
    "                add_to_history(line)\n",
    "                print(\"Find a Repeat Donor\") \n",
    "                contribution_from_repeat_donors(line)         \n",
    "            else:\n",
    "                add_to_history(line)\n",
    "                print('Not a Repeat Donor, add to history_Data database.')\n",
    "\n",
    "    #force the file closed\n",
    "    file.close()\n",
    "\n",
    "\n",
    "if __name__ == \"__main__\":\n",
    "    main()"
   ]
  }
 ],
 "metadata": {
  "kernelspec": {
   "display_name": "Python 3",
   "language": "python",
   "name": "python3"
  },
  "language_info": {
   "codemirror_mode": {
    "name": "ipython",
    "version": 3
   },
   "file_extension": ".py",
   "mimetype": "text/x-python",
   "name": "python",
   "nbconvert_exporter": "python",
   "pygments_lexer": "ipython3",
   "version": "3.6.3"
  },
  "toc": {
   "nav_menu": {},
   "number_sections": true,
   "sideBar": true,
   "skip_h1_title": false,
   "title_cell": "Table of Contents",
   "title_sidebar": "Contents",
   "toc_cell": false,
   "toc_position": {},
   "toc_section_display": true,
   "toc_window_display": false
  }
 },
 "nbformat": 4,
 "nbformat_minor": 2
}
